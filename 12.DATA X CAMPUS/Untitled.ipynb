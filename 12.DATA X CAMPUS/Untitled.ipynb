{
 "cells": [
  {
   "cell_type": "code",
   "execution_count": 1,
   "id": "9c1f1c83-f364-44a8-9d3f-014d0b4056ca",
   "metadata": {},
   "outputs": [],
   "source": [
    "from selenium import webdriver\n",
    "from selenium.webdriver.common.by import By\n",
    "from selenium.webdriver.common.keys import Keys\n",
    "import pandas as pd\n",
    "import numpy as np\n",
    "import time"
   ]
  },
  {
   "cell_type": "code",
   "execution_count": 4,
   "id": "815c2db4-f36e-400b-9d41-f232cdcdd14d",
   "metadata": {},
   "outputs": [],
   "source": [
    "driver = webdriver.Chrome()"
   ]
  },
  {
   "cell_type": "code",
   "execution_count": 58,
   "id": "618620af-7381-4e39-804e-65a2f0b92640",
   "metadata": {},
   "outputs": [],
   "source": [
    "expenseTemplate = pd.read_excel(\"Practice.xlsx\")\n",
    "ditanceTemplate = pd.read_excel(\"Practice.xlsx\", sheet_name=1)"
   ]
  },
  {
   "cell_type": "code",
   "execution_count": null,
   "id": "b10f7b5e-e20a-4a38-bffa-9a1c6cb994ea",
   "metadata": {},
   "outputs": [],
   "source": []
  },
  {
   "cell_type": "code",
   "execution_count": 5,
   "id": "e5d231d4-5a84-44ca-8db2-f60baefacff9",
   "metadata": {},
   "outputs": [],
   "source": [
    "driver.get(\"https://www.expensify.com\")"
   ]
  },
  {
   "cell_type": "code",
   "execution_count": null,
   "id": "779e6884-2c13-4fe3-a230-c13066ccc3f3",
   "metadata": {},
   "outputs": [],
   "source": [
    "# 소라가 https://www.expensify.com/report?param={%22pageReportID%22:%227826090038088206%22,%22keepCollection%22:true} 위치까지 이동"
   ]
  },
  {
   "cell_type": "code",
   "execution_count": 71,
   "id": "f0b050c8-55b1-4ff7-bf01-0c43e097414a",
   "metadata": {},
   "outputs": [],
   "source": [
    "n = len(expenseTemplate[\"Seq\"])\n",
    "for i in range(n):\n",
    "    addExpenseBtn = driver.find_element(By.CSS_SELECTOR, \"#report_addExpenses\")\n",
    "    addExpenseBtn.click()\n",
    "    driver.implicitly_wait(10)\n",
    "    newExpense = driver.find_element(By.CSS_SELECTOR, \"div.modal-layout-split__title>button.btn.btn-success-outline\")\n",
    "    newExpense.click()\n",
    "    driver.implicitly_wait(10)\n",
    "    driver.find_element(By.CSS_SELECTOR, \"ul.bigTabs>li.first.current\").click()\n",
    "    inputMerchant = driver.find_element(By.CSS_SELECTOR, \"input[name=merchant]\")\n",
    "    inputMerchant.send_keys(expenseTemplate[\"Merchant\"][i])\n",
    "    datePicker = driver.find_element(By.CSS_SELECTOR, \"input.calendar.hasDatepicker\")\n",
    "    datePicker.send_keys(Keys.CONTROL, \"a\")\n",
    "    datePicker.send_keys(Keys.BACK_SPACE)\n",
    "    datePicker.send_keys(expenseTemplate[\"Date\"][i])\n",
    "    datePicker.send_keys(Keys.ENTER)\n",
    "    amountInput = driver.find_element(By.CSS_SELECTOR, \"#newExpense3_oneExpense_amount\")\n",
    "    amountInput.send_keys(str(expenseTemplate[\"Total\"][i]))\n",
    "    categoryInput = driver.find_element(By.CSS_SELECTOR, \"li.category_dropdown>span>div>input\")\n",
    "    categoryInput.send_keys(expenseTemplate[\"Category\"][i])\n",
    "    categoryInput.send_keys(Keys.ENTER)\n",
    "    projectInput = driver.find_element(By.CSS_SELECTOR, \"li.tagInputField>span>div>input\")\n",
    "    projectInput.send_keys(expenseTemplate[\"Project\"][i])\n",
    "    projectInput.send_keys(Keys.ENTER)\n",
    "    DescriptionInput = driver.find_element(By.CSS_SELECTOR, \"input[name=comment]\")\n",
    "    DescriptionInput.send_keys(expenseTemplate[\"Description\"][i])\n",
    "    saveButton = driver.find_element(By.CSS_SELECTOR, \"button.js_save\")\n",
    "    saveButton.click()\n",
    "    driver.implicitly_wait(10)"
   ]
  },
  {
   "cell_type": "code",
   "execution_count": null,
   "id": "3633caa1-5bfc-4022-b3fa-9b25ee1cb816",
   "metadata": {},
   "outputs": [],
   "source": []
  },
  {
   "cell_type": "code",
   "execution_count": null,
   "id": "73f9713e-e55e-4459-b55d-c259f14ebcba",
   "metadata": {},
   "outputs": [],
   "source": []
  }
 ],
 "metadata": {
  "kernelspec": {
   "display_name": "Python 3 (ipykernel)",
   "language": "python",
   "name": "python3"
  },
  "language_info": {
   "codemirror_mode": {
    "name": "ipython",
    "version": 3
   },
   "file_extension": ".py",
   "mimetype": "text/x-python",
   "name": "python",
   "nbconvert_exporter": "python",
   "pygments_lexer": "ipython3",
   "version": "3.12.4"
  }
 },
 "nbformat": 4,
 "nbformat_minor": 5
}
