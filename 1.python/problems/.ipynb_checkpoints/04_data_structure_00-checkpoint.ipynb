{
 "cells": [
  {
   "cell_type": "markdown",
   "metadata": {},
   "source": [
    "# 최대공약수, 최소공배수 구하기\n",
    "\n",
    "> 두 수를 입력받아 두 수의 최대공약수와 최소공배수를 반환하는 함수 `gcdlcm`을 작성하세요.\n",
    ">\n",
    "> 배열의 맨 앞에 최대공약수, 그 다음 최소공배수를 넣어 반환하세요. \n",
    ">\n",
    "> 예를 들어 두 수 3, 12의 최대공약수는 3, 최소공배수는 12이므로 `gcdlcm(3, 12)`는 `(3, 12)`를 반환해야 합니다. \n",
    "\n",
    "---\n",
    "\n",
    "예시)\n",
    "\n",
    "```python\n",
    "print(gcdlcm(3, 12)) #=> (3, 12)\n",
    "print(gcdlcm(1071, 1029)) #=> (21, 52479)\n",
    "```"
   ]
  },
  {
   "cell_type": "code",
   "execution_count": null,
   "metadata": {},
   "outputs": [],
   "source": [
    "# 아래에 코드를 작성하세요."
   ]
  },
  {
   "cell_type": "code",
   "execution_count": null,
   "metadata": {},
   "outputs": [],
   "source": [
    "def gcdlcm(a, b):\n",
    "    set_a = set(n for n in range(1, a+1) if a % n == 0) \n",
    "    set_b = set(n for n in range(1, b+1) if b % n == 0) \n",
    "    max_ = max(set_a & set_b)\n",
    "    min_ = a*b//max_\n",
    "    return max_, min_"
   ]
  },
  {
   "cell_type": "code",
   "execution_count": null,
   "metadata": {},
   "outputs": [],
   "source": [
    "# math 모듈\n",
    "import math\n",
    "def gcdlcm(n, m):\n",
    "    return math.gcd(n, m), int(n*m / math.gcd(n, m))"
   ]
  },
  {
   "cell_type": "code",
   "execution_count": null,
   "metadata": {},
   "outputs": [],
   "source": [
    "# 해당 코드를 통해 올바른 결과가 나오는지 확인하세요.\n",
    "print(gcdlcm(3, 12))\n",
    "print(gcdlcm(1071, 1029))"
   ]
  },
  {
   "cell_type": "markdown",
   "metadata": {},
   "source": [
    "# 불쌍한 달팽이 - 고전 수학문제\n",
    "\n",
    "> 달팽이는 낮 시간 동안에 기둥을 올라갑니다. 하지만 밤에는 잠을 자면서 어느 정도의 거리만큼 미끄러집니다. (낮 시간 동안 올라간 거리보다는 적게 미끄러집니다.)\n",
    "> \n",
    "> 달팽이가 기둥의 꼭대기에 도달하는 날까지 걸리는 시간을 반환하는 함수를 작성하세요.\n",
    "\n",
    "> 함수의 인자는 다음과 같습니다.\n",
    "1. 기둥의 높이(미터)\n",
    "2. 낮 시간 동안 달팽이가 올라가는 거리(미터)\n",
    "3. 달팽이가 야간에 잠을 자는 동안 미끄러지는 거리(미터)\n",
    "\n",
    "---\n",
    "\n",
    "예시)\n",
    "```python\n",
    "snail(100, 5, 2)\n",
    "# => 33\n",
    "```"
   ]
  },
  {
   "cell_type": "code",
   "execution_count": null,
   "metadata": {},
   "outputs": [],
   "source": [
    "# 아래에 코드를 작성하세요."
   ]
  },
  {
   "cell_type": "code",
   "execution_count": null,
   "metadata": {},
   "outputs": [],
   "source": [
    "def snail(dis,up,down):\n",
    "    count = 0\n",
    "    while True:\n",
    "        count += 1\n",
    "        dis -= up \n",
    "        if dis <= 0:\n",
    "            return count\n",
    "        dis += down\n",
    "        "
   ]
  },
  {
   "cell_type": "code",
   "execution_count": 3,
   "metadata": {},
   "outputs": [
    {
     "name": "stdout",
     "output_type": "stream",
     "text": [
      "33\n"
     ]
    }
   ],
   "source": [
    "# 해당 코드를 통해 올바른 결과가 나오는지 확인하세요.\n",
    "print(snail(100, 5, 2))"
   ]
  },
  {
   "cell_type": "markdown",
   "metadata": {},
   "source": [
    "# 무엇이 중복일까\n",
    "\n",
    "> 다음 리스트에서 중복되는 요소만 뽑아서 새로운 리스트를 반환하는 함수를 작성하세요.\n",
    "\n",
    "---\n",
    "\n",
    "예시)\n",
    "\n",
    "```python\n",
    "duplicated(['a', 'b', 'c', 'b', 'd', 'm', 'n', 'n', 'b'])\n",
    "\n",
    "['b', 'n']\n",
    "```"
   ]
  },
  {
   "cell_type": "code",
   "execution_count": null,
   "metadata": {
    "scrolled": false
   },
   "outputs": [],
   "source": [
    "# 아래에 코드를 작성하세요."
   ]
  },
  {
   "cell_type": "code",
   "execution_count": null,
   "metadata": {},
   "outputs": [],
   "source": [
    "def duplicated(words):\n",
    "    result = []\n",
    "    for word in words:\n",
    "        words.remove(word)\n",
    "        if word in words:\n",
    "            result.append(word)\n",
    "    return result"
   ]
  },
  {
   "cell_type": "code",
   "execution_count": 11,
   "metadata": {},
   "outputs": [],
   "source": [
    "def duplicated(words):\n",
    "    result = set()\n",
    "    for word in words:\n",
    "        if words.count(word) > 1:\n",
    "            result = result | set(word)\n",
    "    return list(result)"
   ]
  },
  {
   "cell_type": "code",
   "execution_count": 23,
   "metadata": {},
   "outputs": [],
   "source": [
    "def duplicated(words):\n",
    "    result = set()\n",
    "    result.add(word for word in words if words.count(word) > 1)\n",
    "    return list(result)"
   ]
  },
  {
   "cell_type": "code",
   "execution_count": 24,
   "metadata": {},
   "outputs": [
    {
     "data": {
      "text/plain": [
       "[<generator object duplicated.<locals>.<genexpr> at 0x00000237AF521930>]"
      ]
     },
     "execution_count": 24,
     "metadata": {},
     "output_type": "execute_result"
    }
   ],
   "source": [
    "# 해당 코드를 통해 올바른 결과가 나오는지 확인하세요.\n",
    "duplicated(['a', 'b', 'c', 'b', 'd', 'm', 'n', 'n', 'b', 'b'])"
   ]
  },
  {
   "cell_type": "markdown",
   "metadata": {},
   "source": [
    "# 알파벳만 남기고 뒤집기\n",
    "\n",
    "> 문자열이 주어지면, 해당 문자열 중에서 알파벳이 아닌 문자는 전부 빼고 거꾸로 뒤집어 반환하는 함수를 작성하세요.\n",
    "\n",
    "---\n",
    "\n",
    "예시)\n",
    "\n",
    "```python\n",
    "reverse_letter('krishan')\n",
    "'nahsirk'\n",
    "\n",
    "reverse_letter('ultr53o?n')\n",
    "'nortlu'\n",
    "```"
   ]
  },
  {
   "cell_type": "code",
   "execution_count": null,
   "metadata": {},
   "outputs": [],
   "source": [
    "# 아래에 코드를 작성하세요."
   ]
  },
  {
   "cell_type": "code",
   "execution_count": 30,
   "metadata": {},
   "outputs": [],
   "source": [
    "def reverse_letter(words):\n",
    "    result = ''\n",
    "    if words.isalpha():\n",
    "        return words[::-1]\n",
    "    else:\n",
    "        for word in words:\n",
    "            if word.isalpha():\n",
    "                result += word\n",
    "        return result[::-1]"
   ]
  },
  {
   "cell_type": "code",
   "execution_count": 37,
   "metadata": {},
   "outputs": [],
   "source": [
    "def reverse_letter(words):\n",
    "    result = ''\n",
    "    for word in words:\n",
    "        if word.isalpha():\n",
    "            result += word\n",
    "    return result[::-1]"
   ]
  },
  {
   "cell_type": "code",
   "execution_count": 43,
   "metadata": {},
   "outputs": [],
   "source": [
    "def reverse_letter(words):\n",
    "    result = [word for word in words if word.isalpha()]\n",
    "    return ''.join(result[::-1])"
   ]
  },
  {
   "cell_type": "code",
   "execution_count": 44,
   "metadata": {},
   "outputs": [
    {
     "name": "stdout",
     "output_type": "stream",
     "text": [
      "nahsirk\n",
      "nortlu\n"
     ]
    }
   ],
   "source": [
    "# 해당 코드를 통해 올바른 결과가 나오는지 확인하세요.\n",
    "print(reverse_letter('krishan'))\n",
    "print(reverse_letter('ultr53o?n'))"
   ]
  },
  {
   "cell_type": "markdown",
   "metadata": {},
   "source": [
    "# 편-안한 단어\n",
    "\n",
    "> (QWERTY 키보드를 사용하여 타이핑 한다고 가정할 때) '편안한 단어'는 타이핑 할 때 **손을 번갈아 칠 수 있는 단어**를 말합니다.\n",
    ">\n",
    "> 단어를 인자로 받아 그것이 '편안한 단어'인지 여부를 True/False로 반환하는 함수를 작성하세요.\n",
    "* 모든 단어는 a ~ z까지 오름차순으로 구성된 문자열입니다.\n",
    "\n",
    "> 문자 목록\n",
    "- 왼손: q, w, e, r, t, a, s, s, d, f, g, z, x, c, v, b\n",
    "- 오른손: y, u, i, o, p, h, j, k, l, n, m"
   ]
  },
  {
   "cell_type": "code",
   "execution_count": null,
   "metadata": {},
   "outputs": [],
   "source": [
    "# 아래에 코드를 작성하세요."
   ]
  },
  {
   "cell_type": "code",
   "execution_count": 5,
   "metadata": {},
   "outputs": [],
   "source": [
    "def comfortable_word(words):\n",
    "    left = 'qwertassdfgzxcvb'\n",
    "    right = 'yuiophjklnm'\n",
    "    if words[::2] in left and words[1::2] in right:\n",
    "        return True\n",
    "    if words[::2] in right and words[1::2] in left:\n",
    "        return True\n",
    "    else:\n",
    "        return False\n",
    "        \n",
    "        "
   ]
  },
  {
   "cell_type": "code",
   "execution_count": 6,
   "metadata": {},
   "outputs": [
    {
     "name": "stdout",
     "output_type": "stream",
     "text": [
      "True\n",
      "False\n"
     ]
    }
   ],
   "source": [
    "# 해당 코드를 통해 올바른 결과가 나오는지 확인하세요.\n",
    "print(comfortable_word('qywu'))\n",
    "print(comfortable_word('apple'))"
   ]
  },
  {
   "cell_type": "markdown",
   "metadata": {},
   "source": [
    "# 숫자패턴\n",
    "\n",
    ">원하는 행까지 아래의 패턴을 생성하는 함수를 작성하세요. 만약 인자가 0이나 음의 정수인 경우 빈 문자열(`''`)을 반환하세요.\n",
    "> \n",
    "> 짝수가 인수로 전달되면 패턴은 통과된 짝수보다 작은 최대 홀수까지 계속되어야 합니다.\n",
    "\n",
    "---\n",
    "\n",
    "예시)\n",
    "\n",
    "```python\n",
    "print(pattern(9)):\n",
    "\n",
    "1\n",
    "333\n",
    "55555\n",
    "7777777\n",
    "999999999\n",
    "\n",
    "print(pattern(6))\n",
    "1\n",
    "333\n",
    "55555\n",
    "```\n",
    "**유의) 패턴에 공백은 없습니다.**"
   ]
  },
  {
   "cell_type": "code",
   "execution_count": null,
   "metadata": {},
   "outputs": [],
   "source": [
    "# 아래에 코드를 작성하세요."
   ]
  },
  {
   "cell_type": "code",
   "execution_count": 1,
   "metadata": {},
   "outputs": [],
   "source": [
    "def pattern(n):\n",
    "    result = ''\n",
    "    if n <= 0:\n",
    "        return ''\n",
    "    else:\n",
    "        n = n//2 + int(bool(n%2))\n",
    "        for i in range(1, n+1):\n",
    "            result += str(i*2-1)*(i*2-1)+'\\n'\n",
    "    return result\n",
    "    "
   ]
  },
  {
   "cell_type": "code",
   "execution_count": 2,
   "metadata": {},
   "outputs": [
    {
     "name": "stdout",
     "output_type": "stream",
     "text": [
      "1\n",
      "333\n",
      "55555\n",
      "7777777\n",
      "999999999\n",
      "\n",
      "1\n",
      "333\n",
      "55555\n",
      "\n"
     ]
    }
   ],
   "source": [
    "# 해당 코드를 통해 올바른 결과가 나오는지 확인하세요.\n",
    "print(pattern(9))\n",
    "print(pattern(6))"
   ]
  },
  {
   "cell_type": "markdown",
   "metadata": {},
   "source": [
    "# 숫자가 좋아\n",
    "\n",
    "> 섞여있는 문자열 속에서 정수만 뽑아내 합을 반환하는 함수 `pick_and_sum(words)`를 작성하세요.\n",
    "\n",
    "---\n",
    "\n",
    "예시)\n",
    "```python\n",
    "pick_and_sum('The30quick20brown10f0x1203jumps914ov3r1349the102l4zy dog') #=> 3635\n",
    "```"
   ]
  },
  {
   "cell_type": "code",
   "execution_count": null,
   "metadata": {},
   "outputs": [],
   "source": [
    "# 아래에 코드를 작성하세요."
   ]
  },
  {
   "cell_type": "code",
   "execution_count": 45,
   "metadata": {},
   "outputs": [],
   "source": [
    "def pick_and_sum(words):\n",
    "    result = 0\n",
    "    for word in words:\n",
    "        if not word.isdigit():\n",
    "            words = words.replace(word, '*')\n",
    "    words_list = words.split('*')\n",
    "    for _ in range(words_list.count('')):\n",
    "        words_list.remove('')\n",
    "    words_list = list(map(int, words_list))\n",
    "    return sum(words_list)"
   ]
  },
  {
   "cell_type": "code",
   "execution_count": 46,
   "metadata": {},
   "outputs": [
    {
     "name": "stdout",
     "output_type": "stream",
     "text": [
      "3635\n"
     ]
    }
   ],
   "source": [
    "# 해당 코드를 통해 올바른 결과가 나오는지 확인하세요.\n",
    "print(pick_and_sum('The30quick20brown10f0x1203jumps914ov3r1349the102l4zy dog'))"
   ]
  }
 ],
 "metadata": {
  "kernelspec": {
   "display_name": "Python 3",
   "language": "python",
   "name": "python3"
  },
  "language_info": {
   "codemirror_mode": {
    "name": "ipython",
    "version": 3
   },
   "file_extension": ".py",
   "mimetype": "text/x-python",
   "name": "python",
   "nbconvert_exporter": "python",
   "pygments_lexer": "ipython3",
   "version": "3.7.3"
  },
  "latex_envs": {
   "LaTeX_envs_menu_present": true,
   "autoclose": false,
   "autocomplete": true,
   "bibliofile": "biblio.bib",
   "cite_by": "apalike",
   "current_citInitial": 1,
   "eqLabelWithNumbers": true,
   "eqNumInitial": 1,
   "hotkeys": {
    "equation": "Ctrl-E",
    "itemize": "Ctrl-I"
   },
   "labels_anchors": false,
   "latex_user_defs": false,
   "report_style_numbering": false,
   "user_envs_cfg": false
  },
  "toc": {
   "base_numbering": 1,
   "nav_menu": {},
   "number_sections": true,
   "sideBar": true,
   "skip_h1_title": false,
   "title_cell": "Table of Contents",
   "title_sidebar": "Contents",
   "toc_cell": false,
   "toc_position": {},
   "toc_section_display": true,
   "toc_window_display": false
  }
 },
 "nbformat": 4,
 "nbformat_minor": 2
}
