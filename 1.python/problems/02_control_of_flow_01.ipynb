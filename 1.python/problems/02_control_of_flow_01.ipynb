{
 "cells": [
  {
   "cell_type": "markdown",
   "metadata": {},
   "source": [
    "# 구구단 출력하기\n",
    "> 2단부터 9단까지 반복문을 사용하여 구구단을 출력하세요.\n",
    "---\n",
    "```\n",
    "예시 출력)\n",
    "------- [2 단] -------\n",
    "2 X 1 = 2\n",
    "2 X 2 = 4\n",
    "2 X 3 = 6\n",
    "2 X 4 = 8\n",
    "2 X 5 = 10\n",
    "2 X 6 = 12\n",
    "2 X 7 = 14\n",
    "2 X 8 = 16\n",
    "2 X 9 = 18\n",
    "\n",
    "------- [3 단] -------\n",
    "...\n",
    "```"
   ]
  },
  {
   "cell_type": "code",
   "execution_count": null,
   "metadata": {},
   "outputs": [],
   "source": [
    "# 아래에 코드를 작성하세요."
   ]
  },
  {
   "cell_type": "code",
   "execution_count": null,
   "metadata": {},
   "outputs": [],
   "source": [
    "for i in range(2, 10):\n",
    "    print(f'------- [{i} 단] -------')\n",
    "    for j in range(1, 10):\n",
    "        print(f'{i} X {j} = {i*j}')\n",
    "    print()"
   ]
  },
  {
   "cell_type": "markdown",
   "metadata": {},
   "source": [
    "# 달력 출력하기\n",
    "\n",
    "> 1월 1일 월요일부터 12월 31일까지 달력을 출력하세요.\n",
    "\n",
    "---\n",
    "```\n",
    "예시 출력)\n",
    "         1 월\n",
    "Mo Tu We Th Fr Sa Su \n",
    " 1  2  3  4  5  6  7 \n",
    " 8  9 10 11 12 13 14 \n",
    "15 16 17 18 19 20 21 \n",
    "22 23 24 25 26 27 28 \n",
    "29 30 31 \n",
    "         2 월\n",
    "Mo Tu We Th Fr Sa Su \n",
    " 1  2  3  4  5  6  7 \n",
    " 8  9 10 11 12 13 14 \n",
    "15 16 17 18 19 20 21 \n",
    "22 23 24 25 26 27 28 \n",
    "\n",
    "         3 월\n",
    "Mo Tu We Th Fr Sa Su \n",
    " 1  2  3  4  5  6  7 \n",
    " 8  9 10 11 12 13 14 \n",
    "15 16 17 18 19 20 21 \n",
    "22 23 24 25 26 27 28 \n",
    "29 30 31\n",
    "...\n",
    "```"
   ]
  },
  {
   "cell_type": "code",
   "execution_count": null,
   "metadata": {},
   "outputs": [],
   "source": [
    "calendar = { \n",
    "        1: 31, 2: 28, 3: 31, 4: 30, 5: 31,6: 30, \n",
    "        7: 31, 8: 31, 9: 30, 10: 31, 11: 30, 12: 31 \n",
    "} \n",
    "weeks = ['Mo', 'Tu', 'We', 'Th', 'Fr', 'Sa', 'Su'] \n",
    "\n",
    "# 아래에 코드를 작성하세요."
   ]
  },
  {
   "cell_type": "code",
   "execution_count": null,
   "metadata": {},
   "outputs": [],
   "source": [
    "for month, date in calendar.items():\n",
    "    count = 0\n",
    "    \n",
    "    print(f'{month:9} 월')\n",
    "    \n",
    "    for day in weeks:\n",
    "        print(day, end=' ')\n",
    "    print()\n",
    "    \n",
    "    for i in range(1, date+1):\n",
    "        print(f'{i:2}', end=' ')\n",
    "        count += 1\n",
    "        if count == 7:\n",
    "            print()\n",
    "            count = 0\n",
    "    print()\n"
   ]
  },
  {
   "cell_type": "markdown",
   "metadata": {},
   "source": [
    "# 개인정보보호\n",
    "> 사용자의 핸드폰번호를 입력 받고, 개인정보 보호를 위하여 뒷자리 4자리를 제외하고는 마스킹 처리하세요.\n",
    "> * 핸드폰번호는 010으로 시작해야하고 11자리여야한다.\n",
    "> * 핸드폰번호를 입력하지 않았다면 \"핸드폰번호를 입력하세요\"를 출력한다.\n",
    "\n",
    "---\n",
    "\n",
    "```\n",
    "예시 입력)\n",
    "01012341234\n",
    "\n",
    "예시 출력)\n",
    "*******1234\n",
    "```"
   ]
  },
  {
   "cell_type": "code",
   "execution_count": null,
   "metadata": {},
   "outputs": [],
   "source": [
    "# 아래에 코드를 작성하세요."
   ]
  },
  {
   "cell_type": "code",
   "execution_count": null,
   "metadata": {},
   "outputs": [],
   "source": [
    "number = input()\n",
    "\n",
    "if number[:3] == '010' and len(number) == 11:\n",
    "    result = ('*' * 7) + number[-4:] \n",
    "    print(result)\n",
    "else:\n",
    "    print('핸드폰번호를 입력하세요')"
   ]
  },
  {
   "cell_type": "code",
   "execution_count": null,
   "metadata": {},
   "outputs": [],
   "source": [
    "number = input()\n",
    "\n",
    "if number[:3] == '010' and len(number) == 11:\n",
    "    result = f'{number[-4:]:*>11}'\n",
    "    print(result)\n",
    "else:\n",
    "    print('핸드폰번호를 입력하세요')"
   ]
  },
  {
   "cell_type": "markdown",
   "metadata": {},
   "source": [
    "# 정중앙\n",
    "> 사용자가 입력한 문자열중 가운데 글자를 출력하세요. \n",
    ">\n",
    "> 단, 문자열이 짝수라면 가운데 두글자를 출력하세요.\n",
    "\n",
    "---\n",
    "\n",
    "```\n",
    "예시 입력)\n",
    "abc\n",
    "\n",
    "예시 출력)\n",
    "b\n",
    "```"
   ]
  },
  {
   "cell_type": "code",
   "execution_count": null,
   "metadata": {},
   "outputs": [],
   "source": [
    "# 홀수\n",
    "\n",
    "len('neo') // 2\n",
    "# 홀수는 2로 나눈 몫이 정중앙의 인덱스 값\n",
    "\n",
    "#########\n",
    "\n",
    "# 짝수\n",
    "\n",
    "len('justin') // 2\n",
    "# 짝수는 2로 나눈 몫이 슬라이싱 기준으로 정중앙 값 (이 값의 좌우 한칸씩 출력해야 함)"
   ]
  },
  {
   "cell_type": "code",
   "execution_count": null,
   "metadata": {},
   "outputs": [],
   "source": [
    "# 아래에 코드를 작성하세요."
   ]
  },
  {
   "cell_type": "code",
   "execution_count": null,
   "metadata": {},
   "outputs": [],
   "source": [
    "text = input()\n",
    "number = len(text) // 2\n",
    "\n",
    "if len(text) % 2 == 0:\n",
    "    result = text[number-1:number+1]\n",
    "else:\n",
    "    result = text[number]\n",
    "print(result)"
   ]
  },
  {
   "cell_type": "markdown",
   "metadata": {},
   "source": [
    "# 소수 찾기"
   ]
  },
  {
   "cell_type": "markdown",
   "metadata": {},
   "source": [
    "> 조건, 반복문을 응용하여 numbers 리스트의 요소들이 소수인지 아닌지 판단하는 코드를 작성하세요.\n",
    "\n",
    "---\n",
    "\n",
    "예시)\n",
    "\n",
    "```python\n",
    "numbers = [26, 39, 51, 53, 57, 79, 85]\n",
    "\n",
    "26 는 소수가 아닙니다. 2 는 26 의 인수입니다.\n",
    "39 는 소수가 아닙니다. 3 는 39 의 인수입니다.\n",
    "51 는 소수가 아닙니다. 3 는 51 의 인수입니다.\n",
    "53 는 소수입니다.\n",
    "57 는 소수가 아닙니다. 3 는 57 의 인수입니다.\n",
    "79 는 소수입니다.\n",
    "85 는 소수가 아닙니다. 5 는 85 의 인수입니다.\n",
    "```"
   ]
  },
  {
   "cell_type": "code",
   "execution_count": null,
   "metadata": {},
   "outputs": [],
   "source": [
    "numbers = [26, 39, 51, 53, 57, 79, 85]\n",
    "\n",
    "# 아래에 코드를 작성하세요."
   ]
  },
  {
   "cell_type": "code",
   "execution_count": null,
   "metadata": {
    "scrolled": true
   },
   "outputs": [],
   "source": [
    "for number in numbers:\n",
    "    for x in range(2, number):\n",
    "        if number % x == 0:\n",
    "            print(f'{number} 는 소수가 아닙니다. {x} 는 {number}의 인수입니다.')\n",
    "            break\n",
    "    else:\n",
    "        print(f'{number}는 소수입니다.')"
   ]
  },
  {
   "cell_type": "code",
   "execution_count": null,
   "metadata": {},
   "outputs": [],
   "source": [
    "# f-string float\n",
    "\n",
    "number = 11.33\n",
    "\n",
    "print(f'{number}')\n",
    "print(f'{number:.1f}')\n",
    "print(f'{number:.5f}')"
   ]
  },
  {
   "cell_type": "code",
   "execution_count": null,
   "metadata": {},
   "outputs": [],
   "source": [
    "# f-string width\n",
    "\n",
    "for i in range(1, 11):\n",
    "    print(f'{i:02} / {i*i:3}')"
   ]
  },
  {
   "cell_type": "code",
   "execution_count": null,
   "metadata": {},
   "outputs": [],
   "source": [
    "# f-string align\n",
    "\n",
    "new_string = 'abc'\n",
    "\n",
    "print(f'{new_string:>10}')\n",
    "print(f'{new_string:*>10}')"
   ]
  }
 ],
 "metadata": {
  "kernelspec": {
   "display_name": "Python 3",
   "language": "python",
   "name": "python3"
  },
  "language_info": {
   "codemirror_mode": {
    "name": "ipython",
    "version": 3
   },
   "file_extension": ".py",
   "mimetype": "text/x-python",
   "name": "python",
   "nbconvert_exporter": "python",
   "pygments_lexer": "ipython3",
   "version": "3.7.3"
  },
  "latex_envs": {
   "LaTeX_envs_menu_present": true,
   "autoclose": false,
   "autocomplete": true,
   "bibliofile": "biblio.bib",
   "cite_by": "apalike",
   "current_citInitial": 1,
   "eqLabelWithNumbers": true,
   "eqNumInitial": 1,
   "hotkeys": {
    "equation": "Ctrl-E",
    "itemize": "Ctrl-I"
   },
   "labels_anchors": false,
   "latex_user_defs": false,
   "report_style_numbering": false,
   "user_envs_cfg": false
  },
  "toc": {
   "base_numbering": 1,
   "nav_menu": {},
   "number_sections": true,
   "sideBar": true,
   "skip_h1_title": false,
   "title_cell": "Table of Contents",
   "title_sidebar": "Contents",
   "toc_cell": false,
   "toc_position": {},
   "toc_section_display": true,
   "toc_window_display": false
  }
 },
 "nbformat": 4,
 "nbformat_minor": 2
}
